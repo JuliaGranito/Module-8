{
 "cells": [
  {
   "cell_type": "markdown",
   "metadata": {},
   "source": [
    "## Appendix 1 - Python Code and Outputs"
   ]
  },
  {
   "cell_type": "markdown",
   "metadata": {},
   "source": [
    "### Data Preparation"
   ]
  },
  {
   "cell_type": "code",
   "execution_count": 1,
   "metadata": {},
   "outputs": [],
   "source": [
    "from IPython.core.interactiveshell import InteractiveShell\n",
    "InteractiveShell.ast_node_interactivity = \"all\""
   ]
  },
  {
   "cell_type": "markdown",
   "metadata": {},
   "source": [
    "NOTE: extract images from zip file into train folder in the base of the current working directory of this notebook, this can be done manually or via zipfile. Example:\n",
    "<pre>\n",
    "import zipfile\n",
    "with zipfile.ZipFile('train.zip','r') as z:\n",
    "    z.extractall(\"train\")\n",
    "    print('The train dataset is extracted into the train folder of the current working directory')\n",
    "</pre>"
   ]
  },
  {
   "cell_type": "markdown",
   "metadata": {},
   "source": [
    "### Import Extracted Training Data"
   ]
  },
  {
   "cell_type": "code",
   "execution_count": 2,
   "metadata": {},
   "outputs": [],
   "source": [
    "import os\n",
    "# import extracted training files, in this case files were extracted to the train folder in my current working directory\n",
    "Train_Path = \"train\"\n",
    "train_files = os.listdir(Train_Path)"
   ]
  },
  {
   "cell_type": "code",
   "execution_count": 3,
   "metadata": {},
   "outputs": [
    {
     "data": {
      "text/plain": [
       "25000"
      ]
     },
     "execution_count": 3,
     "metadata": {},
     "output_type": "execute_result"
    },
    {
     "data": {
      "text/plain": [
       "['cat.0.jpg',\n",
       " 'cat.1.jpg',\n",
       " 'cat.10.jpg',\n",
       " 'cat.100.jpg',\n",
       " 'cat.1000.jpg',\n",
       " 'cat.10000.jpg',\n",
       " 'cat.10001.jpg',\n",
       " 'cat.10002.jpg',\n",
       " 'cat.10003.jpg',\n",
       " 'cat.10004.jpg']"
      ]
     },
     "execution_count": 3,
     "metadata": {},
     "output_type": "execute_result"
    }
   ],
   "source": [
    "# number of training images\n",
    "len(train_files)\n",
    "\n",
    "# first ten image file names\n",
    "train_files[0:10]"
   ]
  },
  {
   "cell_type": "markdown",
   "metadata": {},
   "source": [
    "### Extract Labels from File Names"
   ]
  },
  {
   "cell_type": "code",
   "execution_count": 4,
   "metadata": {},
   "outputs": [
    {
     "data": {
      "text/plain": [
       "(25000, 3)"
      ]
     },
     "execution_count": 4,
     "metadata": {},
     "output_type": "execute_result"
    },
    {
     "data": {
      "text/html": [
       "<div>\n",
       "<style scoped>\n",
       "    .dataframe tbody tr th:only-of-type {\n",
       "        vertical-align: middle;\n",
       "    }\n",
       "\n",
       "    .dataframe tbody tr th {\n",
       "        vertical-align: top;\n",
       "    }\n",
       "\n",
       "    .dataframe thead th {\n",
       "        text-align: right;\n",
       "    }\n",
       "</style>\n",
       "<table border=\"1\" class=\"dataframe\">\n",
       "  <thead>\n",
       "    <tr style=\"text-align: right;\">\n",
       "      <th></th>\n",
       "      <th>id</th>\n",
       "      <th>label</th>\n",
       "      <th>label_num</th>\n",
       "    </tr>\n",
       "  </thead>\n",
       "  <tbody>\n",
       "    <tr>\n",
       "      <th>0</th>\n",
       "      <td>0</td>\n",
       "      <td>cat</td>\n",
       "      <td>1</td>\n",
       "    </tr>\n",
       "    <tr>\n",
       "      <th>1</th>\n",
       "      <td>1</td>\n",
       "      <td>cat</td>\n",
       "      <td>1</td>\n",
       "    </tr>\n",
       "    <tr>\n",
       "      <th>2</th>\n",
       "      <td>10</td>\n",
       "      <td>cat</td>\n",
       "      <td>1</td>\n",
       "    </tr>\n",
       "    <tr>\n",
       "      <th>3</th>\n",
       "      <td>100</td>\n",
       "      <td>cat</td>\n",
       "      <td>1</td>\n",
       "    </tr>\n",
       "    <tr>\n",
       "      <th>4</th>\n",
       "      <td>1000</td>\n",
       "      <td>cat</td>\n",
       "      <td>1</td>\n",
       "    </tr>\n",
       "    <tr>\n",
       "      <th>5</th>\n",
       "      <td>10000</td>\n",
       "      <td>cat</td>\n",
       "      <td>1</td>\n",
       "    </tr>\n",
       "    <tr>\n",
       "      <th>6</th>\n",
       "      <td>10001</td>\n",
       "      <td>cat</td>\n",
       "      <td>1</td>\n",
       "    </tr>\n",
       "    <tr>\n",
       "      <th>7</th>\n",
       "      <td>10002</td>\n",
       "      <td>cat</td>\n",
       "      <td>1</td>\n",
       "    </tr>\n",
       "    <tr>\n",
       "      <th>8</th>\n",
       "      <td>10003</td>\n",
       "      <td>cat</td>\n",
       "      <td>1</td>\n",
       "    </tr>\n",
       "    <tr>\n",
       "      <th>9</th>\n",
       "      <td>10004</td>\n",
       "      <td>cat</td>\n",
       "      <td>1</td>\n",
       "    </tr>\n",
       "  </tbody>\n",
       "</table>\n",
       "</div>"
      ],
      "text/plain": [
       "      id label  label_num\n",
       "0      0   cat          1\n",
       "1      1   cat          1\n",
       "2     10   cat          1\n",
       "3    100   cat          1\n",
       "4   1000   cat          1\n",
       "5  10000   cat          1\n",
       "6  10001   cat          1\n",
       "7  10002   cat          1\n",
       "8  10003   cat          1\n",
       "9  10004   cat          1"
      ]
     },
     "execution_count": 4,
     "metadata": {},
     "output_type": "execute_result"
    }
   ],
   "source": [
    "import pandas as pd\n",
    "import numpy as np\n",
    "\n",
    "# extract label from file name\n",
    "label = []\n",
    "identifier = []\n",
    "for file in train_files:\n",
    "    file_name = file.split(\".\")\n",
    "    label.append(file_name[0])\n",
    "    identifier.append(file_name[1])\n",
    "\n",
    "# create df with id and label\n",
    "train_df = pd.DataFrame(data={'id':identifier,'label':label})\n",
    "\n",
    "# dummy encode label column\n",
    "train_df[\"label_num\"] = np.where(train_df[\"label\"] == 'cat', 1, 0)\n",
    "\n",
    "# number of labels should be 25000\n",
    "train_df.shape\n",
    "\n",
    "# first ten rows\n",
    "train_df.head(10)"
   ]
  },
  {
   "cell_type": "markdown",
   "metadata": {},
   "source": [
    "### Plot label counts"
   ]
  },
  {
   "cell_type": "code",
   "execution_count": 5,
   "metadata": {},
   "outputs": [
    {
     "data": {
      "text/plain": [
       "[Text(0.5, 1.0, 'Cats and Dogs')]"
      ]
     },
     "execution_count": 5,
     "metadata": {},
     "output_type": "execute_result"
    },
    {
     "data": {
      "image/png": "[encoded data removed]",
      "text/plain": [
       "<Figure size 640x480 with 1 Axes>"
      ]
     },
     "metadata": {},
     "output_type": "display_data"
    }
   ],
   "source": [
    "import seaborn as sns\n",
    "import plotly as plt\n",
    "sns.countplot(x=train_df.label).set(title = 'Cats and Dogs')"
   ]
  },
  {
   "cell_type": "markdown",
   "metadata": {},
   "source": [
    "### Extract Image Dimensions from First 100 Training Images"
   ]
  },
  {
   "cell_type": "code",
   "execution_count": 6,
   "metadata": {},
   "outputs": [
    {
     "data": {
      "text/html": [
       "<div>\n",
       "<style scoped>\n",
       "    .dataframe tbody tr th:only-of-type {\n",
       "        vertical-align: middle;\n",
       "    }\n",
       "\n",
       "    .dataframe tbody tr th {\n",
       "        vertical-align: top;\n",
       "    }\n",
       "\n",
       "    .dataframe thead th {\n",
       "        text-align: right;\n",
       "    }\n",
       "</style>\n",
       "<table border=\"1\" class=\"dataframe\">\n",
       "  <thead>\n",
       "    <tr style=\"text-align: right;\">\n",
       "      <th></th>\n",
       "      <th>dimension</th>\n",
       "    </tr>\n",
       "  </thead>\n",
       "  <tbody>\n",
       "    <tr>\n",
       "      <th>0</th>\n",
       "      <td>(374, 500, 3)</td>\n",
       "    </tr>\n",
       "    <tr>\n",
       "      <th>1</th>\n",
       "      <td>(280, 300, 3)</td>\n",
       "    </tr>\n",
       "    <tr>\n",
       "      <th>2</th>\n",
       "      <td>(499, 489, 3)</td>\n",
       "    </tr>\n",
       "    <tr>\n",
       "      <th>3</th>\n",
       "      <td>(499, 403, 3)</td>\n",
       "    </tr>\n",
       "    <tr>\n",
       "      <th>4</th>\n",
       "      <td>(149, 150, 3)</td>\n",
       "    </tr>\n",
       "    <tr>\n",
       "      <th>5</th>\n",
       "      <td>(359, 431, 3)</td>\n",
       "    </tr>\n",
       "    <tr>\n",
       "      <th>6</th>\n",
       "      <td>(374, 500, 3)</td>\n",
       "    </tr>\n",
       "    <tr>\n",
       "      <th>7</th>\n",
       "      <td>(471, 499, 3)</td>\n",
       "    </tr>\n",
       "    <tr>\n",
       "      <th>8</th>\n",
       "      <td>(375, 499, 3)</td>\n",
       "    </tr>\n",
       "    <tr>\n",
       "      <th>9</th>\n",
       "      <td>(239, 320, 3)</td>\n",
       "    </tr>\n",
       "  </tbody>\n",
       "</table>\n",
       "</div>"
      ],
      "text/plain": [
       "       dimension\n",
       "0  (374, 500, 3)\n",
       "1  (280, 300, 3)\n",
       "2  (499, 489, 3)\n",
       "3  (499, 403, 3)\n",
       "4  (149, 150, 3)\n",
       "5  (359, 431, 3)\n",
       "6  (374, 500, 3)\n",
       "7  (471, 499, 3)\n",
       "8  (375, 499, 3)\n",
       "9  (239, 320, 3)"
      ]
     },
     "execution_count": 6,
     "metadata": {},
     "output_type": "execute_result"
    }
   ],
   "source": [
    "import pandas as pd\n",
    "import cv2\n",
    "\n",
    "# loop through training files to get image dimensions\n",
    "img=[]\n",
    "for file in train_files[0:100]:\n",
    "    count=+1\n",
    "    img.append(cv2.imread(os.path.join(Train_Path,file)).shape)\n",
    "\n",
    "# create df with dim\n",
    "dim_df = pd.DataFrame(data={'dimension':img})\n",
    "dim_df.head(10)"
   ]
  },
  {
   "cell_type": "markdown",
   "metadata": {},
   "source": [
    "### Import Extracted Testing Data"
   ]
  },
  {
   "cell_type": "code",
   "execution_count": 7,
   "metadata": {},
   "outputs": [],
   "source": [
    "# import extracted testing files, in this case files were extracted to the test folder in my current working directory\n",
    "Test_Path = \"test\"\n",
    "test_files = os.listdir(Test_Path)"
   ]
  },
  {
   "cell_type": "code",
   "execution_count": 8,
   "metadata": {},
   "outputs": [
    {
     "data": {
      "text/plain": [
       "12500"
      ]
     },
     "execution_count": 8,
     "metadata": {},
     "output_type": "execute_result"
    },
    {
     "data": {
      "text/plain": [
       "['1.jpg',\n",
       " '10.jpg',\n",
       " '100.jpg',\n",
       " '1000.jpg',\n",
       " '10000.jpg',\n",
       " '10001.jpg',\n",
       " '10002.jpg',\n",
       " '10003.jpg',\n",
       " '10004.jpg',\n",
       " '10005.jpg']"
      ]
     },
     "execution_count": 8,
     "metadata": {},
     "output_type": "execute_result"
    }
   ],
   "source": [
    "# number of test images\n",
    "len(test_files)\n",
    "\n",
    "# first ten image file names\n",
    "test_files[0:10]"
   ]
  },
  {
   "cell_type": "markdown",
   "metadata": {},
   "source": [
    "### Crop and Resize Training Images to 150x150"
   ]
  },
  {
   "cell_type": "code",
   "execution_count": 9,
   "metadata": {},
   "outputs": [],
   "source": [
    "import os\n",
    "from PIL import Image\n",
    "\n",
    "# make new directory for cropped pictures\n",
    "Train_Cropped_Path = \"train_cropped/\"\n",
    "os.mkdir(Train_Cropped_Path)\n",
    "\n",
    "# crop images and save in train_cropped folder\n",
    "for file in train_files:\n",
    "    im = Image.open(os.path.join(Train_Path,file))\n",
    "    im = im.resize((150, 150))\n",
    "    im = im.save(f\"{Train_Cropped_Path}crop{file}\")"
   ]
  },
  {
   "cell_type": "markdown",
   "metadata": {},
   "source": [
    "#### Move cropped images to 'cat' or 'dog' folder based on label for the image data generator"
   ]
  },
  {
   "cell_type": "code",
   "execution_count": null,
   "metadata": {},
   "outputs": [],
   "source": [
    "import shutil, sys\n",
    "\n",
    "# image labels\n",
    "categories = ['cat' , 'dog']\n",
    "\n",
    "# function to move cat images and dog images to folders\n",
    "def move_images_to_specific_folder(new_path, category):\n",
    "    for image_name in os.listdir(new_path):\n",
    "        if category in image_name:\n",
    "            if image_name.endswith('.jpg'):\n",
    "                shutil.move(os.path.join(new_path,image_name), os.path.join(new_path, category))\n",
    "    \n",
    "# create folders for cats and dogs\n",
    "for category in categories:\n",
    "    path = os.path.join(Train_Cropped_Path, category)\n",
    "    os.mkdir(path)\n",
    "    \n",
    "# move cropped files to appropriate folder based on label\n",
    "for category in categories:\n",
    "    move_images_to_specific_folder(Train_Cropped_Path, category)"
   ]
  },
  {
   "cell_type": "markdown",
   "metadata": {},
   "source": [
    "### Check Dimensions of Cropped Training Images"
   ]
  },
  {
   "cell_type": "code",
   "execution_count": 10,
   "metadata": {},
   "outputs": [
    {
     "data": {
      "text/html": [
       "<div>\n",
       "<style scoped>\n",
       "    .dataframe tbody tr th:only-of-type {\n",
       "        vertical-align: middle;\n",
       "    }\n",
       "\n",
       "    .dataframe tbody tr th {\n",
       "        vertical-align: top;\n",
       "    }\n",
       "\n",
       "    .dataframe thead th {\n",
       "        text-align: right;\n",
       "    }\n",
       "</style>\n",
       "<table border=\"1\" class=\"dataframe\">\n",
       "  <thead>\n",
       "    <tr style=\"text-align: right;\">\n",
       "      <th></th>\n",
       "      <th>dimension</th>\n",
       "    </tr>\n",
       "  </thead>\n",
       "  <tbody>\n",
       "    <tr>\n",
       "      <th>0</th>\n",
       "      <td>(150, 150, 3)</td>\n",
       "    </tr>\n",
       "    <tr>\n",
       "      <th>1</th>\n",
       "      <td>(150, 150, 3)</td>\n",
       "    </tr>\n",
       "    <tr>\n",
       "      <th>2</th>\n",
       "      <td>(150, 150, 3)</td>\n",
       "    </tr>\n",
       "    <tr>\n",
       "      <th>3</th>\n",
       "      <td>(150, 150, 3)</td>\n",
       "    </tr>\n",
       "    <tr>\n",
       "      <th>4</th>\n",
       "      <td>(150, 150, 3)</td>\n",
       "    </tr>\n",
       "    <tr>\n",
       "      <th>5</th>\n",
       "      <td>(150, 150, 3)</td>\n",
       "    </tr>\n",
       "    <tr>\n",
       "      <th>6</th>\n",
       "      <td>(150, 150, 3)</td>\n",
       "    </tr>\n",
       "    <tr>\n",
       "      <th>7</th>\n",
       "      <td>(150, 150, 3)</td>\n",
       "    </tr>\n",
       "    <tr>\n",
       "      <th>8</th>\n",
       "      <td>(150, 150, 3)</td>\n",
       "    </tr>\n",
       "    <tr>\n",
       "      <th>9</th>\n",
       "      <td>(150, 150, 3)</td>\n",
       "    </tr>\n",
       "  </tbody>\n",
       "</table>\n",
       "</div>"
      ],
      "text/plain": [
       "       dimension\n",
       "0  (150, 150, 3)\n",
       "1  (150, 150, 3)\n",
       "2  (150, 150, 3)\n",
       "3  (150, 150, 3)\n",
       "4  (150, 150, 3)\n",
       "5  (150, 150, 3)\n",
       "6  (150, 150, 3)\n",
       "7  (150, 150, 3)\n",
       "8  (150, 150, 3)\n",
       "9  (150, 150, 3)"
      ]
     },
     "execution_count": 10,
     "metadata": {},
     "output_type": "execute_result"
    }
   ],
   "source": [
    "# loop through training files to get image dimensions\n",
    "Train_Cropped_Path = \"train_cropped/\"\n",
    "img=[]\n",
    "for category in categories:\n",
    "    path = os.path.join(Train_Cropped_Path, category)\n",
    "    train_cropped_files = os.listdir(path)\n",
    "    for file in train_cropped_files:\n",
    "        img.append(cv2.imread(os.path.join(path,file)).shape)\n",
    "\n",
    "# create df with dimensions, all images should be 150x150\n",
    "dim_cropped_df = pd.DataFrame(data={'dimension':img})\n",
    "dim_cropped_df.head(10)"
   ]
  },
  {
   "cell_type": "markdown",
   "metadata": {},
   "source": [
    "The images are resized to 150x150"
   ]
  },
  {
   "cell_type": "code",
   "execution_count": 11,
   "metadata": {},
   "outputs": [
    {
     "name": "stderr",
     "output_type": "stream",
     "text": [
      "2023-05-19 09:49:39.354888: I tensorflow/core/util/port.cc:110] oneDNN custom operations are on. You may see slightly different numerical results due to floating-point round-off errors from different computation orders. To turn them off, set the environment variable `TF_ENABLE_ONEDNN_OPTS=0`.\n",
      "2023-05-19 09:49:39.443942: I tensorflow/core/platform/cpu_feature_guard.cc:182] This TensorFlow binary is optimized to use available CPU instructions in performance-critical operations.\n",
      "To enable the following instructions: AVX2 AVX512F AVX512_VNNI FMA, in other operations, rebuild TensorFlow with the appropriate compiler flags.\n",
      "2023-05-19 09:49:40.278528: W tensorflow/compiler/tf2tensorrt/utils/py_utils.cc:38] TF-TRT Warning: Could not find TensorRT\n"
     ]
    }
   ],
   "source": [
    "# load all libraries needed\n",
    "import shutil, sys\n",
    "import matplotlib.pyplot as plt\n",
    "import tensorflow as tf\n",
    "from tensorflow.keras import Sequential\n",
    "from tensorflow.keras.layers import Input, Dense, Dropout, Flatten, MaxPool2D\n",
    "from tensorflow.keras.callbacks import ModelCheckpoint\n",
    "from tensorflow.keras.layers import Conv2D\n",
    "from tensorflow.keras.preprocessing.image import ImageDataGenerator\n",
    "%matplotlib inline"
   ]
  },
  {
   "cell_type": "markdown",
   "metadata": {},
   "source": [
    "### Create ImageDataGenerator"
   ]
  },
  {
   "cell_type": "code",
   "execution_count": 12,
   "metadata": {},
   "outputs": [
    {
     "name": "stdout",
     "output_type": "stream",
     "text": [
      "Found 20000 images belonging to 2 classes.\n",
      "Found 5000 images belonging to 2 classes.\n"
     ]
    }
   ],
   "source": [
    "# create ImageDataGenerator to apply preprocessing for images and split data to batches\n",
    "image_size = 150\n",
    "batch_size = 10 # keep batch size small for now\n",
    "epochs = 10 # start with 10 epochs\n",
    "\n",
    "train_datagen = ImageDataGenerator(rescale = 1./255, # rescale the image pixels\n",
    "                                   rotation_range=20,\n",
    "                                   validation_split=0.2, # allocate 20% of the data as validation\n",
    "                                   horizontal_flip=True,\n",
    "                                   width_shift_range = 0.2,\n",
    "                                   height_shift_range = 0.2)\n",
    "\n",
    "train_generator = train_datagen.flow_from_directory('train_cropped/', \n",
    "                                                    class_mode='binary', \n",
    "                                                    batch_size = batch_size, \n",
    "                                                    target_size=(image_size,image_size), \n",
    "                                                    subset='training', \n",
    "                                                    shuffle=True, \n",
    "                                                    seed=10)\n",
    "validation_generator = train_datagen.flow_from_directory('train_cropped/', \n",
    "                                                         class_mode='binary', \n",
    "                                                         batch_size = batch_size, \n",
    "                                                         target_size=(image_size,image_size), \n",
    "                                                         subset='validation', \n",
    "                                                         shuffle=True, \n",
    "                                                         seed=10)\n"
   ]
  },
  {
   "cell_type": "markdown",
   "metadata": {},
   "source": [
    "STILL WORKING ON ADJUSTING MODEL PARAMETERS - WORK IN PROGRESS"
   ]
  },
  {
   "cell_type": "code",
   "execution_count": 23,
   "metadata": {},
   "outputs": [
    {
     "name": "stdout",
     "output_type": "stream",
     "text": [
      "Model: \"sequential_4\"\n",
      "_________________________________________________________________\n",
      " Layer (type)                Output Shape              Param #   \n",
      "=================================================================\n",
      " conv2d_11 (Conv2D)          (None, 150, 150, 32)      2432      \n",
      "                                                                 \n",
      " max_pooling2d_10 (MaxPoolin  (None, 75, 75, 32)       0         \n",
      " g2D)                                                            \n",
      "                                                                 \n",
      " conv2d_12 (Conv2D)          (None, 75, 75, 64)        18496     \n",
      "                                                                 \n",
      " max_pooling2d_11 (MaxPoolin  (None, 37, 37, 64)       0         \n",
      " g2D)                                                            \n",
      "                                                                 \n",
      " conv2d_13 (Conv2D)          (None, 37, 37, 128)       73856     \n",
      "                                                                 \n",
      " max_pooling2d_12 (MaxPoolin  (None, 18, 18, 128)      0         \n",
      " g2D)                                                            \n",
      "                                                                 \n",
      " flatten_2 (Flatten)         (None, 41472)             0         \n",
      "                                                                 \n",
      " dense_3 (Dense)             (None, 1)                 41473     \n",
      "                                                                 \n",
      "=================================================================\n",
      "Total params: 136,257\n",
      "Trainable params: 136,257\n",
      "Non-trainable params: 0\n",
      "_________________________________________________________________\n"
     ]
    }
   ],
   "source": [
    "# Build Initial Sequential Model\n",
    "model = Sequential()\n",
    "# 2D convolutional layer w/32 filters, 5x5 kernel, and ReLU activation function. Model expects 150x150 image with 3 channels.\n",
    "model.add(Conv2D(input_shape=(150,150,3), filters = 32, kernel_size=(5,5), strides=(1,1), padding=('same'), activation=\"relu\"))\n",
    "# max pooling layer\n",
    "model.add(MaxPool2D(pool_size=(2,2),strides=(2,2)))\n",
    "\n",
    "# Conv2D and MaxPooling2D layers with 64 filters and 3x3 kernel.\n",
    "model.add(Conv2D(filters = 64, kernel_size=(3,3), padding=\"same\", activation=\"relu\"))\n",
    "model.add(MaxPool2D(pool_size=(2, 2)))\n",
    "\n",
    "# Conv2D and MaxPooling2D layers with 128 filters 3x3 kernel.\n",
    "model.add(Conv2D(filters = 128, kernel_size=(3,3), padding=\"same\", activation=\"relu\"))\n",
    "model.add(MaxPool2D(pool_size=(2, 2)))\n",
    "\n",
    "# flatten output of the previous layer\n",
    "model.add(Flatten())\n",
    "# add dense layer\n",
    "model.add(Dense(units=1, activation=\"sigmoid\"))\n",
    "\n",
    "model.summary()"
   ]
  },
  {
   "cell_type": "code",
   "execution_count": 24,
   "metadata": {},
   "outputs": [],
   "source": [
    "# Adam solver optimizer with learning rate of 0.01\n",
    "optimizer=tf.keras.optimizers.Adam(learning_rate=0.01)\n",
    "# create model\n",
    "model.compile(loss='binary_crossentropy', optimizer=optimizer, metrics=['accuracy'])"
   ]
  },
  {
   "cell_type": "code",
   "execution_count": 25,
   "metadata": {},
   "outputs": [
    {
     "name": "stdout",
     "output_type": "stream",
     "text": [
      "Epoch 1/10\n"
     ]
    },
    {
     "name": "stderr",
     "output_type": "stream",
     "text": [
      "/tmp/ipykernel_2484/2143819318.py:5: UserWarning: `Model.fit_generator` is deprecated and will be removed in a future version. Please use `Model.fit`, which supports generators.\n",
      "  history = model.fit_generator(train_generator, steps_per_epoch=train_generator.samples // batch_size,\n",
      "2023-05-19 10:06:51.972399: I tensorflow/core/common_runtime/executor.cc:1197] [/device:CPU:0] (DEBUG INFO) Executor start aborting (this does not indicate an error and you can ignore this message): INVALID_ARGUMENT: You must feed a value for placeholder tensor 'Placeholder/_0' with dtype int32\n",
      "\t [[{{node Placeholder/_0}}]]\n",
      "2023-05-19 10:12:09.460272: I tensorflow/core/common_runtime/executor.cc:1197] [/device:CPU:0] (DEBUG INFO) Executor start aborting (this does not indicate an error and you can ignore this message): INVALID_ARGUMENT: You must feed a value for placeholder tensor 'Placeholder/_0' with dtype int32\n",
      "\t [[{{node Placeholder/_0}}]]\n"
     ]
    },
    {
     "name": "stdout",
     "output_type": "stream",
     "text": [
      "\n",
      "Epoch 1: val_loss improved from inf to 0.69313, saving model to best_model.cnn\n"
     ]
    },
    {
     "name": "stderr",
     "output_type": "stream",
     "text": [
      "WARNING:absl:Found untraced functions such as _jit_compiled_convolution_op, _jit_compiled_convolution_op, _jit_compiled_convolution_op while saving (showing 3 of 3). These functions will not be directly callable after loading.\n"
     ]
    },
    {
     "name": "stdout",
     "output_type": "stream",
     "text": [
      "INFO:tensorflow:Assets written to: best_model.cnn/assets\n"
     ]
    },
    {
     "name": "stderr",
     "output_type": "stream",
     "text": [
      "INFO:tensorflow:Assets written to: best_model.cnn/assets\n"
     ]
    },
    {
     "name": "stdout",
     "output_type": "stream",
     "text": [
      "20000/20000 - 386s - loss: 0.7016 - accuracy: 0.4981 - val_loss: 0.6931 - val_accuracy: 0.5000 - 386s/epoch - 19ms/step\n",
      "Epoch 2/10\n",
      "\n",
      "Epoch 2: val_loss did not improve from 0.69313\n",
      "20000/20000 - 339s - loss: 0.6945 - accuracy: 0.4956 - val_loss: 0.6936 - val_accuracy: 0.5000 - 339s/epoch - 17ms/step\n",
      "Epoch 3/10\n",
      "\n",
      "Epoch 3: val_loss did not improve from 0.69313\n",
      "20000/20000 - 318s - loss: 0.6946 - accuracy: 0.4955 - val_loss: 0.6932 - val_accuracy: 0.5000 - 318s/epoch - 16ms/step\n",
      "Epoch 4/10\n",
      "\n",
      "Epoch 4: val_loss did not improve from 0.69313\n",
      "20000/20000 - 321s - loss: 0.6945 - accuracy: 0.5028 - val_loss: 0.6936 - val_accuracy: 0.5000 - 321s/epoch - 16ms/step\n",
      "Epoch 5/10\n",
      "\n",
      "Epoch 5: val_loss did not improve from 0.69313\n",
      "20000/20000 - 328s - loss: 0.6942 - accuracy: 0.5029 - val_loss: 0.6970 - val_accuracy: 0.5000 - 328s/epoch - 16ms/step\n",
      "Epoch 6/10\n",
      "\n",
      "Epoch 6: val_loss did not improve from 0.69313\n",
      "20000/20000 - 325s - loss: 0.6946 - accuracy: 0.4956 - val_loss: 0.6945 - val_accuracy: 0.5000 - 325s/epoch - 16ms/step\n"
     ]
    }
   ],
   "source": [
    "# EarlyStopping based on validation loss (stops if doesn't improve after 5 iterations)\n",
    "early_stopping = tf.keras.callbacks.EarlyStopping(monitor='val_loss', patience=5)\n",
    "# save the best model as 'best_model.cnn' based on validation loss\n",
    "save_best = ModelCheckpoint(filepath = 'best_model.cnn', verbose=1, save_best_only=True)\n",
    "\n",
    "# fit model using batches of training data and batches of testing data\n",
    "history = model.fit_generator(train_generator, steps_per_epoch=train_generator.samples // batch_size, \n",
    "                              validation_data = validation_generator,\n",
    "                              validation_steps = validation_generator.samples // batch_size, \n",
    "                              epochs = epochs, \n",
    "                              callbacks=[save_best,early_stopping], \n",
    "                              verbose=2)"
   ]
  },
  {
   "cell_type": "code",
   "execution_count": null,
   "metadata": {},
   "outputs": [],
   "source": [
    "plt.plot(history.history['loss'])\n",
    "plt.plot(history.history['val_loss'])\n",
    "\n",
    "plt.plot(history.history['accuracy'])\n",
    "plt.plot(history.history['val_accuracy'])\n",
    "\n",
    "best_model = tf.keras.models.load_model('best_model.cnn')\n",
    "best_model.summary()"
   ]
  },
  {
   "cell_type": "markdown",
   "metadata": {},
   "source": [
    "### Crop and Resize Testing Images to 150x150"
   ]
  },
  {
   "cell_type": "code",
   "execution_count": null,
   "metadata": {},
   "outputs": [],
   "source": [
    "# make new directory for cropped images\n",
    "Test_Cropped_Path = \"test_cropped\"\n",
    "os.mkdir(Test_Cropped_Path)\n",
    "\n",
    "# crop images and save in new folder\n",
    "for file in test_files:\n",
    "    im = Image.open(os.path.join(Test_Path,file))\n",
    "    im = im.resize((150, 150))\n",
    "    im.save('test_cropped/'+file)\n",
    "test_cropped_files = os.listdir(Test_Cropped_Path)\n",
    "\n",
    "\n",
    "# make new directory for cropped pictures\n",
    "Train_Cropped_Path = \"train_cropped/\"\n",
    "os.mkdir(Train_Cropped_Path)\n",
    "\n",
    "# crop images and save in train_cropped folder\n",
    "for file in train_files:\n",
    "    im = Image.open(os.path.join(Train_Path,file))\n",
    "    im = im.resize((150, 150))\n",
    "    im = im.save(f\"{Train_Cropped_Path}crop{file}\")\n",
    "\n",
    "test_df = pd.DataFrame(data = test_cropped_files, columns = ['filename'])\n",
    "test_df['id'] = test_df['filename'].apply(lambda f: int(f.split('.')[0]))\n",
    "test_df.sort_values(by = 'id', inplace = True, ignore_index = True)"
   ]
  },
  {
   "cell_type": "markdown",
   "metadata": {},
   "source": [
    "### Input Test Data into Testing Generator for Model Predictions"
   ]
  },
  {
   "cell_type": "code",
   "execution_count": null,
   "metadata": {},
   "outputs": [],
   "source": [
    "# rescale image pixels\n",
    "test_gen = ImageDataGenerator(rescale = 1./255)\n",
    "# create test generator for testing data\n",
    "test_generator = test_gen.flow_from_dataframe(test_df, \n",
    "                                              'test', \n",
    "                                               x_col='filename',\n",
    "                                               class_mode= None,\n",
    "                                               target_size=(image_size,image_size),\n",
    "                                               batch_size=batch_size,\n",
    "                                               shuffle=False\n",
    ")"
   ]
  },
  {
   "cell_type": "markdown",
   "metadata": {},
   "source": [
    "### Save Predictions into CSV file for Kaggle"
   ]
  },
  {
   "cell_type": "code",
   "execution_count": null,
   "metadata": {},
   "outputs": [],
   "source": [
    "# extract id from file name\n",
    "identifier = []\n",
    "for file in test_files:\n",
    "    file_name = file.split(\".\")\n",
    "    identifier.append(file_name[0])\n",
    "\n",
    "# Apply the cnn model1 to the test dataset\n",
    "cnn_pred1 = best_model.predict(test_generator, verbose = 1)\n",
    "\n",
    "# Put the label predictions into a dataframe\n",
    "cnn_pred1_df = pd.DataFrame(cnn_pred1, columns=['Label'])\n",
    "\n",
    "# Add the ID column to the front of the cnn predictions dataframe\n",
    "cnn_pred1_df.insert(0, 'ImageId', identifier)\n",
    "\n",
    "# Output predictions to csv\n",
    "cnn_pred1_df.to_csv('test_predictions_cnn_v1.csv', index=False)"
   ]
  },
  {
   "cell_type": "markdown",
   "metadata": {},
   "source": [
    "Let's display the Kaggle results from the application of the CNN model on the test dataset"
   ]
  },
  {
   "cell_type": "code",
   "execution_count": null,
   "metadata": {},
   "outputs": [],
   "source": [
    "# Display the kaggle results associated with the MLP Classifier Model\n",
    "import matplotlib.pyplot as plt\n",
    "plt.figure(figsize = (15, 15))\n",
    "kaggle_results = plt.imread('Kaggle_results_cnn_v1.jpg')\n",
    "plt.imshow(kaggle_results)\n",
    "plt.axis(\"off\")\n",
    "plt.show()"
   ]
  }
 ],
 "metadata": {
  "kernelspec": {
   "display_name": "tf",
   "language": "python",
   "name": "tf"
  },
  "language_info": {
   "codemirror_mode": {
    "name": "ipython",
    "version": 3
   },
   "file_extension": ".py",
   "mimetype": "text/x-python",
   "name": "python",
   "nbconvert_exporter": "python",
   "pygments_lexer": "ipython3",
   "version": "3.9.16"
  }
 },
 "nbformat": 4,
 "nbformat_minor": 4
}
